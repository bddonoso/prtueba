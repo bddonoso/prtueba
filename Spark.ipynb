{
  "nbformat": 4,
  "nbformat_minor": 0,
  "metadata": {
    "colab": {
      "provenance": [],
      "include_colab_link": true
    },
    "kernelspec": {
      "name": "python3",
      "display_name": "Python 3"
    },
    "language_info": {
      "name": "python"
    }
  },
  "cells": [
    {
      "cell_type": "markdown",
      "metadata": {
        "id": "view-in-github",
        "colab_type": "text"
      },
      "source": [
        "<a href=\"https://colab.research.google.com/github/bddonoso/prtueba/blob/master/Spark.ipynb\" target=\"_parent\"><img src=\"https://colab.research.google.com/assets/colab-badge.svg\" alt=\"Open In Colab\"/></a>"
      ]
    },
    {
      "cell_type": "code",
      "execution_count": null,
      "metadata": {
        "colab": {
          "base_uri": "https://localhost:8080/"
        },
        "id": "dwxC24ZJKx5e",
        "outputId": "61781488-390e-4b20-87c2-c7518cfe25c8"
      },
      "outputs": [
        {
          "output_type": "stream",
          "name": "stdout",
          "text": [
            "Requirement already satisfied: pyspark in /usr/local/lib/python3.12/dist-packages (3.5.1)\n",
            "Requirement already satisfied: py4j==0.10.9.7 in /usr/local/lib/python3.12/dist-packages (from pyspark) (0.10.9.7)\n"
          ]
        }
      ],
      "source": [
        "!pip install pyspark\n"
      ]
    },
    {
      "cell_type": "code",
      "source": [
        "from pyspark.sql import SparkSession\n",
        "\n",
        "spark = SparkSession.builder \\\n",
        "    .appName(\"Ejemplo Spark en Colab\") \\\n",
        "    .getOrCreate()\n",
        "\n",
        "print(\"Versión de Spark:\", spark.version)\n"
      ],
      "metadata": {
        "colab": {
          "base_uri": "https://localhost:8080/"
        },
        "id": "B3afUoxBLBGK",
        "outputId": "05d78a2d-291d-4559-f549-9e1bf6eac84a"
      },
      "execution_count": null,
      "outputs": [
        {
          "output_type": "stream",
          "name": "stdout",
          "text": [
            "Versión de Spark: 3.5.1\n"
          ]
        }
      ]
    },
    {
      "cell_type": "code",
      "source": [
        "#Creando un archivo csv prueba\n",
        "data = \"\"\" id,producto,cantidad,precio\n",
        "1,laptop,2,3500\n",
        "2,mouse,10,50\n",
        "3,teclado,5,120\n",
        "4,monitor,3,800\n",
        "5,laptop,1,3500\n",
        "\"\"\"\n",
        "with open(\"ventas.csv\", \"w\") as f:\n",
        "    f.write(data)\n",
        "#Cargar el csv en dataframe de spark\n",
        "df = spark.read.csv(\"ventas.csv\", header=True, inferSchema=True)\n",
        "#Mostrar contenido\n",
        "df.show()"
      ],
      "metadata": {
        "colab": {
          "base_uri": "https://localhost:8080/"
        },
        "id": "KgdFH38VLRtA",
        "outputId": "974acb05-f9b4-47ce-f665-8e308e2f76ea"
      },
      "execution_count": null,
      "outputs": [
        {
          "output_type": "stream",
          "name": "stdout",
          "text": [
            "+---+--------+--------+------+\n",
            "| id|producto|cantidad|precio|\n",
            "+---+--------+--------+------+\n",
            "|  1|  laptop|       2|  3500|\n",
            "|  2|   mouse|      10|    50|\n",
            "|  3| teclado|       5|   120|\n",
            "|  4| monitor|       3|   800|\n",
            "|  5|  laptop|       1|  3500|\n",
            "+---+--------+--------+------+\n",
            "\n"
          ]
        }
      ]
    },
    {
      "cell_type": "code",
      "source": [
        "df.select(\"producto\", \"precio\").show()"
      ],
      "metadata": {
        "colab": {
          "base_uri": "https://localhost:8080/"
        },
        "id": "gma8zVA3MNfK",
        "outputId": "458af5a8-7b54-493f-def2-29d5ebc0c903"
      },
      "execution_count": null,
      "outputs": [
        {
          "output_type": "stream",
          "name": "stdout",
          "text": [
            "+--------+------+\n",
            "|producto|precio|\n",
            "+--------+------+\n",
            "|  laptop|  3500|\n",
            "|   mouse|    50|\n",
            "| teclado|   120|\n",
            "| monitor|   800|\n",
            "|  laptop|  3500|\n",
            "+--------+------+\n",
            "\n"
          ]
        }
      ]
    },
    {
      "cell_type": "code",
      "source": [
        "df.filter(df[\"precio\"] > 1500).show()"
      ],
      "metadata": {
        "colab": {
          "base_uri": "https://localhost:8080/"
        },
        "id": "SrFVVcsHMVbp",
        "outputId": "a4a58e9b-9ecc-4868-bdb9-c2c37a0590bf"
      },
      "execution_count": null,
      "outputs": [
        {
          "output_type": "stream",
          "name": "stdout",
          "text": [
            "+---+--------+--------+------+\n",
            "| id|producto|cantidad|precio|\n",
            "+---+--------+--------+------+\n",
            "|  1|  laptop|       2|  3500|\n",
            "|  5|  laptop|       1|  3500|\n",
            "+---+--------+--------+------+\n",
            "\n"
          ]
        }
      ]
    },
    {
      "cell_type": "code",
      "source": [
        "df.groupBy(\"producto\").sum(\"cantidad\").show()"
      ],
      "metadata": {
        "colab": {
          "base_uri": "https://localhost:8080/"
        },
        "id": "kIaulSwlMcG2",
        "outputId": "18383f18-1518-4fcd-e182-ca57e30612d9"
      },
      "execution_count": null,
      "outputs": [
        {
          "output_type": "stream",
          "name": "stdout",
          "text": [
            "+--------+-------------+\n",
            "|producto|sum(cantidad)|\n",
            "+--------+-------------+\n",
            "|  laptop|            3|\n",
            "| monitor|            3|\n",
            "| teclado|            5|\n",
            "|   mouse|           10|\n",
            "+--------+-------------+\n",
            "\n"
          ]
        }
      ]
    },
    {
      "cell_type": "code",
      "source": [
        "#registrar el DataFrame como una tabla temporal\n",
        "df.createOrReplaceTempView(\"ventas\")\n",
        "\n",
        "#consulto con SQL\n",
        "consulta = spark.sql(\"\"\"\n",
        "SELECT producto, sum(cantidad) as total_vendido, AVG(precio) as precio_promedio\n",
        "FROM ventas\n",
        "GROUP BY producto\n",
        "ORDER BY total_vendido DESC\n",
        "\"\"\")\n",
        "consulta.show()\n"
      ],
      "metadata": {
        "colab": {
          "base_uri": "https://localhost:8080/"
        },
        "id": "_VNaATxlM1pf",
        "outputId": "84512d43-1cba-4468-a400-f5f51b84a008"
      },
      "execution_count": null,
      "outputs": [
        {
          "output_type": "stream",
          "name": "stdout",
          "text": [
            "+--------+-------------+---------------+\n",
            "|producto|total_vendido|precio_promedio|\n",
            "+--------+-------------+---------------+\n",
            "|   mouse|           10|           50.0|\n",
            "| teclado|            5|          120.0|\n",
            "|  laptop|            3|         3500.0|\n",
            "| monitor|            3|          800.0|\n",
            "+--------+-------------+---------------+\n",
            "\n"
          ]
        }
      ]
    },
    {
      "cell_type": "code",
      "source": [
        "rdd = spark.sparkContext.parallelize([1, 2, 3, 4, 5, 6, 7, 8, 9, 10])\n",
        "\n",
        "rdd_cuadros = rdd.map(lambda x: x*x)\n",
        "\n",
        "print(\"Cuadrados\", rdd_cuadros.collect())"
      ],
      "metadata": {
        "colab": {
          "base_uri": "https://localhost:8080/"
        },
        "id": "IELUWZmoPKm3",
        "outputId": "2a1c67e0-3f4f-4168-e654-7ec1b4ceb239"
      },
      "execution_count": null,
      "outputs": [
        {
          "output_type": "stream",
          "name": "stdout",
          "text": [
            "Cuadrados [1, 4, 9, 16, 25, 36, 49, 64, 81, 100]\n"
          ]
        }
      ]
    },
    {
      "cell_type": "code",
      "source": [
        "suma_total = rdd.reduce(lambda x, y: x + y)\n",
        "print(\"Suma total\", suma_total)\n"
      ],
      "metadata": {
        "id": "mANeG7S4P85O",
        "outputId": "83478ba4-3894-4a26-c26d-8be0c7148bb3",
        "colab": {
          "base_uri": "https://localhost:8080/"
        }
      },
      "execution_count": null,
      "outputs": [
        {
          "output_type": "stream",
          "name": "stdout",
          "text": [
            "Suma total 55\n"
          ]
        }
      ]
    }
  ]
}